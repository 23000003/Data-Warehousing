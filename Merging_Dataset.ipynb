{
 "cells": [
  {
   "cell_type": "markdown",
   "metadata": {},
   "source": [
    "## Joining 3 CSV Related Data\n",
    "\n"
   ]
  },
  {
   "cell_type": "code",
   "execution_count": null,
   "metadata": {},
   "outputs": [],
   "source": [
    "# Library\n",
    "import pandas as pd"
   ]
  },
  {
   "cell_type": "markdown",
   "metadata": {},
   "source": [
    "### Drivers Data"
   ]
  },
  {
   "cell_type": "code",
   "execution_count": 4,
   "metadata": {},
   "outputs": [
    {
     "name": "stdout",
     "output_type": "stream",
     "text": [
      "Index(['Report Number', 'Local Case Number', 'Agency Name', 'ACRS Report Type',\n",
      "       'Crash Date/Time', 'Route Type', 'Road Name', 'Cross-Street Name',\n",
      "       'Off-Road Description', 'Municipality', 'Related Non-Motorist',\n",
      "       'Collision Type', 'Weather', 'Surface Condition', 'Light',\n",
      "       'Traffic Control', 'Driver Substance Abuse',\n",
      "       'Non-Motorist Substance Abuse', 'Person ID', 'Driver At Fault',\n",
      "       'Injury Severity', 'Circumstance', 'Driver Distracted By',\n",
      "       'Drivers License State', 'Vehicle ID', 'Vehicle Damage Extent',\n",
      "       'Vehicle First Impact Location', 'Vehicle Body Type',\n",
      "       'Vehicle Movement', 'Vehicle Going Dir', 'Speed Limit',\n",
      "       'Driverless Vehicle', 'Parked Vehicle', 'Vehicle Year', 'Vehicle Make',\n",
      "       'Vehicle Model', 'Latitude', 'Longitude', 'Location'],\n",
      "      dtype='object')\n"
     ]
    }
   ],
   "source": [
    "\n",
    "### Read the csv File and Load the data with specified dtype(data type) and low_memory flag\n",
    "driverData = pd.read_csv(\"./Data-Sources/Crash_Reporting_-_Drivers_Data.csv\",\n",
    "                   dtype={'Local Case Number': 'str'},\n",
    "                   low_memory=False)\n",
    "\n",
    "print(driverData.columns)\n"
   ]
  },
  {
   "cell_type": "code",
   "execution_count": 2,
   "metadata": {},
   "outputs": [
    {
     "name": "stdout",
     "output_type": "stream",
     "text": [
      "Total rows: 184897\n",
      "Total columns: 39\n"
     ]
    }
   ],
   "source": [
    "\n",
    "# Get the total number of rows and columns\n",
    "driRows, driColumns = driverData.shape\n",
    "\n",
    "# Print the total rows and columns of Drivers Data\n",
    "print(f\"Total rows: {driRows}\")\n",
    "print(f\"Total columns: {driColumns}\")\n"
   ]
  },
  {
   "cell_type": "markdown",
   "metadata": {},
   "source": [
    "\n",
    "### Non - Motorist Data"
   ]
  },
  {
   "cell_type": "code",
   "execution_count": 5,
   "metadata": {},
   "outputs": [
    {
     "name": "stdout",
     "output_type": "stream",
     "text": [
      "Index(['Report Number', 'Local Case Number', 'Agency Name', 'ACRS Report Type',\n",
      "       'Crash Date/Time', 'Route Type', 'Road Name', 'Cross-Street Name',\n",
      "       'Off-Road Description', 'Municipality', 'Related Non-Motorist',\n",
      "       'Collision Type', 'Weather', 'Surface Condition', 'Light',\n",
      "       'Traffic Control', 'Driver Substance Abuse',\n",
      "       'Non-Motorist Substance Abuse', 'Person ID', 'Pedestrian Type',\n",
      "       'Pedestrian Movement', 'Pedestrian Actions', 'Pedestrian Location',\n",
      "       'At Fault', 'Injury Severity', 'Safety Equipment', 'Latitude',\n",
      "       'Longitude', 'Location'],\n",
      "      dtype='object')\n"
     ]
    }
   ],
   "source": [
    "\n",
    "# Read the csv File and Load the data with specified dtype(data type) and low_memory flag\n",
    "nonMotoristData = pd.read_csv(\"./Data-Sources/Crash_Reporting_-_Non-Motorists_Data_20240922.csv\",\n",
    "                              dtype={'Local Case Number': 'str'},\n",
    "                              low_memory=False)\n",
    "\n",
    "print(nonMotoristData.columns);"
   ]
  },
  {
   "cell_type": "code",
   "execution_count": 6,
   "metadata": {},
   "outputs": [
    {
     "name": "stdout",
     "output_type": "stream",
     "text": [
      "Total rows: 6104\n",
      "Total columns: 29\n"
     ]
    }
   ],
   "source": [
    "\n",
    "# Get the total number of rows and columns\n",
    "nMrows, nMcolumns = nonMotoristData.shape\n",
    "\n",
    "# Print the total rows and columns of Non Motorist Data\n",
    "print(f\"Total rows: {nMrows}\")\n",
    "print(f\"Total columns: {nMcolumns}\")\n"
   ]
  },
  {
   "cell_type": "markdown",
   "metadata": {},
   "source": [
    "\n",
    "### Incidents Data "
   ]
  },
  {
   "cell_type": "code",
   "execution_count": 7,
   "metadata": {},
   "outputs": [
    {
     "name": "stdout",
     "output_type": "stream",
     "text": [
      "Index(['Report Number', 'Local Case Number', 'Agency Name', 'ACRS Report Type',\n",
      "       'Crash Date/Time', 'Hit/Run', 'Route Type', 'Lane Direction',\n",
      "       'Lane Type', 'Number of Lanes', 'Direction', 'Distance',\n",
      "       'Distance Unit', 'Road Grade', 'Road Name', 'Cross-Street Name',\n",
      "       'Off-Road Description', 'Municipality', 'Related Non-Motorist',\n",
      "       'At Fault', 'Collision Type', 'Weather', 'Surface Condition', 'Light',\n",
      "       'Traffic Control', 'Driver Substance Abuse',\n",
      "       'Non-Motorist Substance Abuse', 'First Harmful Event',\n",
      "       'Second Harmful Event', 'Junction', 'Intersection Type',\n",
      "       'Road Alignment', 'Road Condition', 'Road Division', 'Latitude',\n",
      "       'Longitude', 'Location'],\n",
      "      dtype='object')\n"
     ]
    }
   ],
   "source": [
    "\n",
    "# Read the csv File and Load the data with specified dtype(data type) and low_memory flag\n",
    "incidentsData = pd.read_csv(\"./Data-Sources/Crash_Reporting_-_Incidents_Data_20240922.csv\",\n",
    "                            dtype={'Local Case Number' : 'str'},\n",
    "                            low_memory=False)\n",
    "\n",
    "print(incidentsData.columns);\n"
   ]
  },
  {
   "cell_type": "code",
   "execution_count": 15,
   "metadata": {},
   "outputs": [
    {
     "name": "stdout",
     "output_type": "stream",
     "text": [
      "Total rows: 104780\n",
      "Total columns: 37\n"
     ]
    }
   ],
   "source": [
    "\n",
    "# Get the total number of rows and columns\n",
    "iRows, iColumns = incidentsData.shape\n",
    "\n",
    "# Print the total rows and columns of Non Motorist Data\n",
    "print(f\"Total rows: {iRows}\")\n",
    "print(f\"Total columns: {iColumns}\")"
   ]
  },
  {
   "cell_type": "markdown",
   "metadata": {},
   "source": [
    "\n",
    "## Merged Datasets "
   ]
  },
  {
   "cell_type": "code",
   "execution_count": 16,
   "metadata": {},
   "outputs": [
    {
     "name": "stdout",
     "output_type": "stream",
     "text": [
      "Index(['Report Number', 'Local Case Number', 'Agency Name', 'ACRS Report Type',\n",
      "       'Crash Date/Time', 'Route Type', 'Road Name', 'Cross-Street Name',\n",
      "       'Off-Road Description', 'Municipality', 'Related Non-Motorist',\n",
      "       'Collision Type', 'Weather', 'Surface Condition', 'Light',\n",
      "       'Traffic Control', 'Driver Substance Abuse',\n",
      "       'Non-Motorist Substance Abuse', 'Person ID', 'Driver At Fault',\n",
      "       'Injury Severity', 'Circumstance', 'Driver Distracted By',\n",
      "       'Drivers License State', 'Vehicle ID', 'Vehicle Damage Extent',\n",
      "       'Vehicle First Impact Location', 'Vehicle Body Type',\n",
      "       'Vehicle Movement', 'Vehicle Going Dir', 'Speed Limit',\n",
      "       'Driverless Vehicle', 'Parked Vehicle', 'Vehicle Year', 'Vehicle Make',\n",
      "       'Vehicle Model', 'Latitude', 'Longitude', 'Location', 'Pedestrian Type',\n",
      "       'Pedestrian Movement', 'Pedestrian Actions', 'Pedestrian Location',\n",
      "       'At Fault', 'Safety Equipment', 'Hit/Run', 'Lane Direction',\n",
      "       'Lane Type', 'Number of Lanes', 'Direction', 'Distance',\n",
      "       'Distance Unit', 'Road Grade', 'First Harmful Event',\n",
      "       'Second Harmful Event', 'Junction', 'Intersection Type',\n",
      "       'Road Alignment', 'Road Condition', 'Road Division'],\n",
      "      dtype='object')\n"
     ]
    }
   ],
   "source": [
    "# Concatenate DataFrames\n",
    "frames = [driverData, nonMotoristData, incidentsData]\n",
    "result = pd.concat(frames, ignore_index=True, sort=False)\n",
    "\n",
    "# Key Points:\n",
    "# ignore_index=True: \n",
    "    # This reindexes the resulting DataFrame, which can be useful if you want a fresh index.\n",
    "# sort=False: \n",
    "    # This keeps the original order of the columns as they appear in the concatenated DataFrames \n",
    "    # rather than sorting them alphabetically.\n",
    "\n",
    "# Print the columns of the concatenated DataFrame\n",
    "print(result.columns)"
   ]
  },
  {
   "cell_type": "code",
   "execution_count": 17,
   "metadata": {},
   "outputs": [
    {
     "name": "stdout",
     "output_type": "stream",
     "text": [
      "Total rows after concat: 295781\n",
      "Total columns after concat: 60\n"
     ]
    }
   ],
   "source": [
    "# Print the total rows and columns of the concatenated data\n",
    "rows, columns = result.shape\n",
    "print(f\"Total rows after concat: {rows}\")\n",
    "print(f\"Total columns after concat: {columns}\")"
   ]
  },
  {
   "cell_type": "markdown",
   "metadata": {},
   "source": [
    "\n",
    "### Common Columns"
   ]
  },
  {
   "cell_type": "code",
   "execution_count": 24,
   "metadata": {},
   "outputs": [
    {
     "name": "stdout",
     "output_type": "stream",
     "text": [
      "Common columns in all DataFrames:\n",
      "Weather\n",
      "Agency Name\n",
      "Report Number\n",
      "Longitude\n",
      "Road Name\n",
      "ACRS Report Type\n",
      "Surface Condition\n",
      "Crash Date/Time\n",
      "Driver Substance Abuse\n",
      "Cross-Street Name\n",
      "Traffic Control\n",
      "Municipality\n",
      "Non-Motorist Substance Abuse\n",
      "Location\n",
      "Related Non-Motorist\n",
      "Latitude\n",
      "Light\n",
      "Off-Road Description\n",
      "Route Type\n",
      "Local Case Number\n",
      "Collision Type\n"
     ]
    }
   ],
   "source": [
    "\n",
    "# Get the columns of each DataFrame\n",
    "driver_columns = set(driverData.columns)\n",
    "non_motorist_columns = set(nonMotoristData.columns)\n",
    "incidents_columns = set(incidentsData.columns)\n",
    "\n",
    "# Find common columns\n",
    "common_columns = driver_columns.intersection(non_motorist_columns).intersection(incidents_columns)\n",
    "\n",
    "print(\"Common columns in all DataFrames:\")\n",
    "for column in common_columns:\n",
    "    print(column)\n"
   ]
  },
  {
   "cell_type": "code",
   "execution_count": 26,
   "metadata": {},
   "outputs": [
    {
     "name": "stdout",
     "output_type": "stream",
     "text": [
      "21\n"
     ]
    }
   ],
   "source": [
    "# Number of Common Columns\n",
    "print(len(common_columns))"
   ]
  }
 ],
 "metadata": {
  "kernelspec": {
   "display_name": "Python 3",
   "language": "python",
   "name": "python3"
  },
  "language_info": {
   "codemirror_mode": {
    "name": "ipython",
    "version": 3
   },
   "file_extension": ".py",
   "mimetype": "text/x-python",
   "name": "python",
   "nbconvert_exporter": "python",
   "pygments_lexer": "ipython3",
   "version": "3.12.6"
  }
 },
 "nbformat": 4,
 "nbformat_minor": 2
}
