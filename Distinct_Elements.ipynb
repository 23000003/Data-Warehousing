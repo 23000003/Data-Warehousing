{
 "cells": [
  {
   "cell_type": "markdown",
   "metadata": {},
   "source": [
    "# DISTINCT ELEMENTS OF A DATASET"
   ]
  },
  {
   "cell_type": "code",
   "execution_count": 3,
   "metadata": {},
   "outputs": [],
   "source": [
    "\n",
    "import pandas as pd"
   ]
  },
  {
   "cell_type": "markdown",
   "metadata": {},
   "source": [
    "### Import all CSV Data"
   ]
  },
  {
   "cell_type": "code",
   "execution_count": 63,
   "metadata": {},
   "outputs": [],
   "source": [
    "\n",
    "driverData = pd.read_csv(\"./Data-Sources/Crash_Reporting_-_Drivers_Data.csv\",\n",
    "                   dtype={'Local Case Number': 'str'},\n",
    "                   low_memory=False)\n",
    "\n",
    "incidentsData = pd.read_csv(\"./Data-Sources/Crash_Reporting_-_Incidents_Data_20240922.csv\",\n",
    "                            dtype={'Local Case Number' : 'str'},\n",
    "                            low_memory=False)\n",
    "\n",
    "nonMotoristData = pd.read_csv(\"./Data-Sources/Crash_Reporting_-_Non-Motorists_Data_20240922.csv\",\n",
    "                              dtype={'Local Case Number': 'str'},\n",
    "                              low_memory=False)\n"
   ]
  },
  {
   "cell_type": "markdown",
   "metadata": {},
   "source": [
    "### Use the Codespace below to Double Check The Generated Distinct CSV"
   ]
  },
  {
   "cell_type": "code",
   "execution_count": 64,
   "metadata": {},
   "outputs": [],
   "source": [
    "# Select Distinct on a specific Column\n",
    "# distinctData = <variableData>[['<Column Name>']].drop_duplicates()\n",
    "\n",
    "# print(distinctData)"
   ]
  },
  {
   "cell_type": "markdown",
   "metadata": {},
   "source": [
    "### Drivers Data"
   ]
  },
  {
   "cell_type": "code",
   "execution_count": 4,
   "metadata": {},
   "outputs": [
    {
     "name": "stdout",
     "output_type": "stream",
     "text": [
      "Index(['Report Number', 'Local Case Number', 'Agency Name', 'ACRS Report Type',\n",
      "       'Crash Date/Time', 'Route Type', 'Road Name', 'Cross-Street Name',\n",
      "       'Off-Road Description', 'Municipality', 'Related Non-Motorist',\n",
      "       'Collision Type', 'Weather', 'Surface Condition', 'Light',\n",
      "       'Traffic Control', 'Driver Substance Abuse',\n",
      "       'Non-Motorist Substance Abuse', 'Person ID', 'Driver At Fault',\n",
      "       'Injury Severity', 'Circumstance', 'Driver Distracted By',\n",
      "       'Drivers License State', 'Vehicle ID', 'Vehicle Damage Extent',\n",
      "       'Vehicle First Impact Location', 'Vehicle Body Type',\n",
      "       'Vehicle Movement', 'Vehicle Going Dir', 'Speed Limit',\n",
      "       'Driverless Vehicle', 'Parked Vehicle', 'Vehicle Year', 'Vehicle Make',\n",
      "       'Vehicle Model', 'Latitude', 'Longitude', 'Location'],\n",
      "      dtype='object')\n"
     ]
    }
   ],
   "source": [
    "\n",
    "print(driverData.columns)"
   ]
  },
  {
   "cell_type": "markdown",
   "metadata": {},
   "source": [
    "### Create CSV in Distinct and Reindexing for Drivers Data"
   ]
  },
  {
   "cell_type": "code",
   "execution_count": 61,
   "metadata": {},
   "outputs": [],
   "source": [
    "\n",
    "result = pd.DataFrame()  # Empty DataFrame to store results\n",
    "\n",
    "for column in driverData:\n",
    "    # Get distinct values of the column and reset the index\n",
    "    distinct_rows = driverData[[column]].drop_duplicates().reset_index(drop=True)\n",
    "    \n",
    "    # Rename the distinct rows to the column name\n",
    "    distinct_rows.columns = [column]\n",
    "    \n",
    "    # Append the distinct rows to the result DataFrame\n",
    "    # Ensure that all columns are aligned vertically by reindexing\n",
    "    max_length = max(len(distinct_rows), len(result))  # Find the maximum length\n",
    "    distinct_rows = distinct_rows.reindex(range(max_length))  # Reindex to align lengths\n",
    "    result = pd.concat([result, distinct_rows], axis=1)\n",
    "\n",
    "# Save the result\n",
    "result.to_csv('Distinct_Drivers_Data.csv', index=False)\n"
   ]
  },
  {
   "cell_type": "markdown",
   "metadata": {},
   "source": [
    "### Incidents Data"
   ]
  },
  {
   "cell_type": "code",
   "execution_count": 62,
   "metadata": {},
   "outputs": [
    {
     "name": "stdout",
     "output_type": "stream",
     "text": [
      "Index(['Report Number', 'Local Case Number', 'Agency Name', 'ACRS Report Type',\n",
      "       'Crash Date/Time', 'Hit/Run', 'Route Type', 'Lane Direction',\n",
      "       'Lane Type', 'Number of Lanes', 'Direction', 'Distance',\n",
      "       'Distance Unit', 'Road Grade', 'Road Name', 'Cross-Street Name',\n",
      "       'Off-Road Description', 'Municipality', 'Related Non-Motorist',\n",
      "       'At Fault', 'Collision Type', 'Weather', 'Surface Condition', 'Light',\n",
      "       'Traffic Control', 'Driver Substance Abuse',\n",
      "       'Non-Motorist Substance Abuse', 'First Harmful Event',\n",
      "       'Second Harmful Event', 'Junction', 'Intersection Type',\n",
      "       'Road Alignment', 'Road Condition', 'Road Division', 'Latitude',\n",
      "       'Longitude', 'Location'],\n",
      "      dtype='object')\n"
     ]
    }
   ],
   "source": [
    "\n",
    "print(incidentsData.columns);"
   ]
  },
  {
   "cell_type": "markdown",
   "metadata": {},
   "source": [
    "### Create CSV in Distinct and Reindexing for Incidents Data"
   ]
  },
  {
   "cell_type": "code",
   "execution_count": 66,
   "metadata": {},
   "outputs": [],
   "source": [
    "result = pd.DataFrame() \n",
    "\n",
    "for column in incidentsData:\n",
    "\n",
    "    distinct_rows = incidentsData[[column]].drop_duplicates().reset_index(drop=True)\n",
    "    \n",
    "    distinct_rows.columns = [column]\n",
    "    \n",
    "    max_length = max(len(distinct_rows), len(result))\n",
    "    distinct_rows = distinct_rows.reindex(range(max_length)) \n",
    "    result = pd.concat([result, distinct_rows], axis=1)\n",
    "\n",
    "# Save the result\n",
    "result.to_csv('Distinct_Incidents_Data.csv', index=False)"
   ]
  },
  {
   "cell_type": "markdown",
   "metadata": {},
   "source": [
    "### Non Motorist Data"
   ]
  },
  {
   "cell_type": "code",
   "execution_count": 67,
   "metadata": {},
   "outputs": [
    {
     "name": "stdout",
     "output_type": "stream",
     "text": [
      "Index(['Report Number', 'Local Case Number', 'Agency Name', 'ACRS Report Type',\n",
      "       'Crash Date/Time', 'Route Type', 'Road Name', 'Cross-Street Name',\n",
      "       'Off-Road Description', 'Municipality', 'Related Non-Motorist',\n",
      "       'Collision Type', 'Weather', 'Surface Condition', 'Light',\n",
      "       'Traffic Control', 'Driver Substance Abuse',\n",
      "       'Non-Motorist Substance Abuse', 'Person ID', 'Pedestrian Type',\n",
      "       'Pedestrian Movement', 'Pedestrian Actions', 'Pedestrian Location',\n",
      "       'At Fault', 'Injury Severity', 'Safety Equipment', 'Latitude',\n",
      "       'Longitude', 'Location'],\n",
      "      dtype='object')\n"
     ]
    }
   ],
   "source": [
    "print(nonMotoristData.columns);"
   ]
  },
  {
   "cell_type": "markdown",
   "metadata": {},
   "source": [
    "### Create CSV in Distinct and Reindexing for Non-Motorist Data"
   ]
  },
  {
   "cell_type": "code",
   "execution_count": 68,
   "metadata": {},
   "outputs": [],
   "source": [
    "result = pd.DataFrame() \n",
    "\n",
    "for column in nonMotoristData:\n",
    "\n",
    "    distinct_rows = nonMotoristData[[column]].drop_duplicates().reset_index(drop=True)\n",
    "    \n",
    "    distinct_rows.columns = [column]\n",
    "    \n",
    "    max_length = max(len(distinct_rows), len(result))\n",
    "    distinct_rows = distinct_rows.reindex(range(max_length)) \n",
    "    result = pd.concat([result, distinct_rows], axis=1)\n",
    "\n",
    "# Save the result\n",
    "result.to_csv('Distinct_Non-Motorist_Data.csv', index=False)"
   ]
  }
 ],
 "metadata": {
  "kernelspec": {
   "display_name": "Python 3",
   "language": "python",
   "name": "python3"
  },
  "language_info": {
   "codemirror_mode": {
    "name": "ipython",
    "version": 3
   },
   "file_extension": ".py",
   "mimetype": "text/x-python",
   "name": "python",
   "nbconvert_exporter": "python",
   "pygments_lexer": "ipython3",
   "version": "3.12.6"
  }
 },
 "nbformat": 4,
 "nbformat_minor": 2
}
